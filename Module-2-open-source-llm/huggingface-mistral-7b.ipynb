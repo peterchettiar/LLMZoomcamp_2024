{
 "cells": [
  {
   "cell_type": "markdown",
   "id": "d658f909-e679-41e9-9c4e-e0241c719049",
   "metadata": {},
   "source": [
    "## Mistral-7B\n",
    "\n",
    "If you're not running in Saturn Cloud, you need to install these libraries:\n",
    "\n",
    "Make sure you use the latest versions\n",
    "\n",
    "```\n",
    "pip install -U transformers accelerate bitsandbytes\n",
    "```"
   ]
  },
  {
   "cell_type": "code",
   "execution_count": 1,
   "id": "506fab2a-a50c-42bd-a106-c83a9d2828ea",
   "metadata": {
    "execution": {
     "iopub.execute_input": "2024-08-05T10:24:49.943242Z",
     "iopub.status.busy": "2024-08-05T10:24:49.942783Z",
     "iopub.status.idle": "2024-08-05T10:24:51.203497Z",
     "shell.execute_reply": "2024-08-05T10:24:51.202863Z",
     "shell.execute_reply.started": "2024-08-05T10:24:49.943190Z"
    },
    "tags": []
   },
   "outputs": [
    {
     "name": "stdout",
     "output_type": "stream",
     "text": [
      "--2024-08-05 10:24:51--  https://raw.githubusercontent.com/alexeygrigorev/minsearch/main/minsearch.py\n",
      "Resolving raw.githubusercontent.com (raw.githubusercontent.com)... 185.199.110.133, 185.199.111.133, 185.199.109.133, ...\n",
      "Connecting to raw.githubusercontent.com (raw.githubusercontent.com)|185.199.110.133|:443... connected.\n",
      "HTTP request sent, awaiting response... 200 OK\n",
      "Length: 3832 (3.7K) [text/plain]\n",
      "Saving to: ‘minsearch.py’\n",
      "\n",
      "minsearch.py        100%[===================>]   3.74K  --.-KB/s    in 0s      \n",
      "\n",
      "2024-08-05 10:24:51 (28.1 MB/s) - ‘minsearch.py’ saved [3832/3832]\n",
      "\n"
     ]
    }
   ],
   "source": [
    "!rm -f minsearch.py\n",
    "!wget https://raw.githubusercontent.com/alexeygrigorev/minsearch/main/minsearch.py"
   ]
  },
  {
   "cell_type": "code",
   "execution_count": 2,
   "id": "f33f625c-bb7e-4176-a500-93bc283b8c01",
   "metadata": {
    "execution": {
     "iopub.execute_input": "2024-08-05T10:24:51.205557Z",
     "iopub.status.busy": "2024-08-05T10:24:51.205235Z",
     "iopub.status.idle": "2024-08-05T10:24:54.342805Z",
     "shell.execute_reply": "2024-08-05T10:24:54.341984Z",
     "shell.execute_reply.started": "2024-08-05T10:24:51.205532Z"
    },
    "tags": []
   },
   "outputs": [
    {
     "data": {
      "text/plain": [
       "<torch._C.Generator at 0x7f62f58c5d70>"
      ]
     },
     "execution_count": 2,
     "metadata": {},
     "output_type": "execute_result"
    }
   ],
   "source": [
    "import torch\n",
    "from transformers import AutoModelForCausalLM, AutoTokenizer, pipeline\n",
    "from huggingface_hub import login\n",
    "\n",
    "import requests # library for making HTTP requests\n",
    "import minsearch # library for creating and managing a search index\n",
    "import os\n",
    "import warnings\n",
    "warnings.filterwarnings(\"ignore\")\n",
    "\n",
    "# os.environ['HF_HOME'] = '/run/cache/'\n",
    "torch.random.manual_seed(0)"
   ]
  },
  {
   "cell_type": "code",
   "execution_count": 3,
   "id": "601e741d-e671-4d51-9c62-3efb29c4f80a",
   "metadata": {
    "execution": {
     "iopub.execute_input": "2024-08-05T10:24:54.344383Z",
     "iopub.status.busy": "2024-08-05T10:24:54.343824Z",
     "iopub.status.idle": "2024-08-05T10:24:54.396314Z",
     "shell.execute_reply": "2024-08-05T10:24:54.395460Z",
     "shell.execute_reply.started": "2024-08-05T10:24:54.344356Z"
    },
    "tags": []
   },
   "outputs": [
    {
     "name": "stdout",
     "output_type": "stream",
     "text": [
      "The token has not been saved to the git credentials helper. Pass `add_to_git_credential=True` in this function directly or `--add-to-git-credential` if using via `huggingface-cli` if you want to set the git credential as well.\n",
      "Token is valid (permission: read).\n",
      "Your token has been saved to /home/jovyan/.cache/huggingface/token\n",
      "Login successful\n"
     ]
    }
   ],
   "source": [
    "# Logging into HuggingFace\n",
    "\n",
    "login(token=os.environ['HF_TOKEN'])"
   ]
  },
  {
   "cell_type": "markdown",
   "id": "4dd6a3ad-b2d4-49e5-b649-62a91780a075",
   "metadata": {},
   "source": [
    "### Building our Knowledge base"
   ]
  },
  {
   "cell_type": "code",
   "execution_count": 4,
   "id": "3ac947de-effd-4b61-8792-a6d7a133f347",
   "metadata": {
    "execution": {
     "iopub.execute_input": "2024-08-05T10:24:54.397654Z",
     "iopub.status.busy": "2024-08-05T10:24:54.397433Z",
     "iopub.status.idle": "2024-08-05T10:24:54.721604Z",
     "shell.execute_reply": "2024-08-05T10:24:54.720712Z",
     "shell.execute_reply.started": "2024-08-05T10:24:54.397634Z"
    },
    "tags": []
   },
   "outputs": [
    {
     "data": {
      "text/plain": [
       "<minsearch.Index at 0x7f61f5db1100>"
      ]
     },
     "execution_count": 4,
     "metadata": {},
     "output_type": "execute_result"
    }
   ],
   "source": [
    "# Fetching documents - retrieve JSON file containing course documents from a given URL, and parse into python object\n",
    "docs_url = 'https://github.com/DataTalksClub/llm-zoomcamp/blob/main/01-intro/documents.json?raw=1'\n",
    "docs_response = requests.get(docs_url)\n",
    "documents_raw = docs_response.json()\n",
    "\n",
    "documents = []\n",
    "\n",
    "# loop to create a flat list of all documents \n",
    "for course in documents_raw:\n",
    "    course_name = course['course'] \n",
    "\n",
    "    for doc in course['documents']:\n",
    "        doc['course'] = course_name # adding `course` field to each document\n",
    "        documents.append(doc)\n",
    "\n",
    "# creating the search index - specifies which fields should be treated as text (for full-text search) and which as keywords\n",
    "index = minsearch.Index(\n",
    "    text_fields=[\"question\", \"text\", \"section\"],\n",
    "    keyword_fields=[\"course\"]\n",
    ")\n",
    "\n",
    "# fitting the index - adds all the processed documents to the search index\n",
    "index.fit(documents)"
   ]
  },
  {
   "cell_type": "markdown",
   "id": "bbf0e712-6d6e-4af3-b4fe-526e61a7a555",
   "metadata": {},
   "source": [
    "### Defining functions to search database and building our prompt"
   ]
  },
  {
   "cell_type": "code",
   "execution_count": 5,
   "id": "8f087272-b44d-4738-9ea2-175ec63a058b",
   "metadata": {
    "execution": {
     "iopub.execute_input": "2024-08-05T10:24:54.723313Z",
     "iopub.status.busy": "2024-08-05T10:24:54.722877Z",
     "iopub.status.idle": "2024-08-05T10:24:54.728375Z",
     "shell.execute_reply": "2024-08-05T10:24:54.727632Z",
     "shell.execute_reply.started": "2024-08-05T10:24:54.723275Z"
    },
    "tags": []
   },
   "outputs": [],
   "source": [
    "def search(query):\n",
    "    boost = {'question': 3.0, 'section': 0.5}\n",
    "\n",
    "    results = index.search(\n",
    "        query=query,\n",
    "        filter_dict={'course': 'data-engineering-zoomcamp'},\n",
    "        boost_dict=boost,\n",
    "        num_results=5\n",
    "    )\n",
    "\n",
    "    return results"
   ]
  },
  {
   "cell_type": "code",
   "execution_count": 6,
   "id": "742ab881-499a-4675-83c4-2013ea1377b9",
   "metadata": {
    "execution": {
     "iopub.execute_input": "2024-08-05T10:24:54.730183Z",
     "iopub.status.busy": "2024-08-05T10:24:54.729544Z",
     "iopub.status.idle": "2024-08-05T10:24:54.734944Z",
     "shell.execute_reply": "2024-08-05T10:24:54.734327Z",
     "shell.execute_reply.started": "2024-08-05T10:24:54.730160Z"
    },
    "tags": []
   },
   "outputs": [],
   "source": [
    "def build_prompt(query, search_results):\n",
    "    prompt_template = \"\"\"\n",
    "    QUESTION: {question}\n",
    "\n",
    "    CONTEXT:\n",
    "    {context}\n",
    "\n",
    "    ANSWER:\n",
    "    \"\"\".strip()\n",
    "\n",
    "    context = \"\"\n",
    "    \n",
    "    for doc in search_results:\n",
    "        context = context + f\"{doc['question']}\\n{doc['text']}\\n\\n\"\n",
    "    \n",
    "    prompt = prompt_template.format(question=query, context=context).strip()\n",
    "    return prompt"
   ]
  },
  {
   "cell_type": "markdown",
   "id": "7ae83054",
   "metadata": {},
   "source": [
    "### Running the Mistral-7B model"
   ]
  },
  {
   "cell_type": "code",
   "execution_count": 7,
   "id": "091a77e6-936b-448e-a04b-bad1001f5bb0",
   "metadata": {
    "execution": {
     "iopub.execute_input": "2024-08-05T10:24:54.737433Z",
     "iopub.status.busy": "2024-08-05T10:24:54.736773Z",
     "iopub.status.idle": "2024-08-05T10:24:54.741140Z",
     "shell.execute_reply": "2024-08-05T10:24:54.740302Z",
     "shell.execute_reply.started": "2024-08-05T10:24:54.737403Z"
    },
    "tags": []
   },
   "outputs": [],
   "source": [
    "model = AutoModelForCausalLM.from_pretrained(\n",
    "    \"mistralai/Mistral-7B-v0.1\", \n",
    "    device_map=\"auto\",\n",
    "    load_in_4bit = True\n",
    ")\n",
    "\n",
    "tokenizer = AutoTokenizer.from_pretrained(\"mistralai/Mistral-7B-v0.1\", padding_side=\"left\")"
   ]
  },
  {
   "cell_type": "code",
   "execution_count": 8,
   "id": "875f5c17-449f-4e6d-802c-3353a2867315",
   "metadata": {
    "execution": {
     "iopub.execute_input": "2024-08-05T10:24:54.742188Z",
     "iopub.status.busy": "2024-08-05T10:24:54.741931Z",
     "iopub.status.idle": "2024-08-05T10:24:54.745721Z",
     "shell.execute_reply": "2024-08-05T10:24:54.744920Z",
     "shell.execute_reply.started": "2024-08-05T10:24:54.742166Z"
    },
    "tags": []
   },
   "outputs": [],
   "source": [
    "# # now let's save the model locally, so that we don't need to keep downloading them\n",
    "\n",
    "# model.save_pretrained(\"./mistral-7b-model\")\n",
    "# tokenizer.save_pretrained(\"./mistral-7b-tokenizer\")"
   ]
  },
  {
   "cell_type": "code",
   "execution_count": 9,
   "id": "ad1ff332-7f6b-47d1-9e2b-54d76e44b97d",
   "metadata": {
    "execution": {
     "iopub.execute_input": "2024-08-05T10:24:54.746722Z",
     "iopub.status.busy": "2024-08-05T10:24:54.746490Z",
     "iopub.status.idle": "2024-08-05T10:24:58.020237Z",
     "shell.execute_reply": "2024-08-05T10:24:58.019536Z",
     "shell.execute_reply.started": "2024-08-05T10:24:54.746688Z"
    },
    "tags": []
   },
   "outputs": [
    {
     "name": "stderr",
     "output_type": "stream",
     "text": [
      "Unused kwargs: ['_load_in_4bit', '_load_in_8bit', 'quant_method']. These kwargs are not used in <class 'transformers.utils.quantization_config.BitsAndBytesConfig'>.\n",
      "`low_cpu_mem_usage` was None, now set to True since model is quantized.\n"
     ]
    }
   ],
   "source": [
    "# # loading the model from local directory\n",
    "\n",
    "# model = AutoModelForCausalLM.from_pretrained(\"./mistral-7b-model\")\n",
    "# tokenizer = AutoTokenizer.from_pretrained(\"./mistral-7b-tokenizer\")"
   ]
  },
  {
   "cell_type": "code",
   "execution_count": 10,
   "id": "57a52e32-2c0d-485f-8cfc-0f31f5f4ee08",
   "metadata": {
    "execution": {
     "iopub.execute_input": "2024-08-05T10:24:58.021588Z",
     "iopub.status.busy": "2024-08-05T10:24:58.021246Z",
     "iopub.status.idle": "2024-08-05T10:24:58.025739Z",
     "shell.execute_reply": "2024-08-05T10:24:58.024950Z",
     "shell.execute_reply.started": "2024-08-05T10:24:58.021566Z"
    },
    "tags": []
   },
   "outputs": [],
   "source": [
    "pipe = pipeline(\n",
    "    \"text-generation\",\n",
    "    model=model,\n",
    "    tokenizer=tokenizer,\n",
    ")"
   ]
  },
  {
   "cell_type": "markdown",
   "id": "54893f0b-4016-45c1-870d-b879d341a765",
   "metadata": {},
   "source": [
    "### Modifying the LLM function to include our Phi3-mini model"
   ]
  },
  {
   "cell_type": "code",
   "execution_count": 11,
   "id": "8804881f-16c2-4c0f-908e-17aa9ab18805",
   "metadata": {
    "execution": {
     "iopub.execute_input": "2024-08-05T10:24:58.027271Z",
     "iopub.status.busy": "2024-08-05T10:24:58.026891Z",
     "iopub.status.idle": "2024-08-05T10:24:58.032672Z",
     "shell.execute_reply": "2024-08-05T10:24:58.031865Z",
     "shell.execute_reply.started": "2024-08-05T10:24:58.027239Z"
    },
    "tags": []
   },
   "outputs": [],
   "source": [
    "def llm(prompt):\n",
    "    response = pipe(prompt, max_length=500, temperature=0.7, top_p=0.95, num_return_sequences=1)\n",
    "    response_final = response[0]['generated_text']\n",
    "    return response_final[len(prompt):].strip()"
   ]
  },
  {
   "cell_type": "code",
   "execution_count": 12,
   "id": "ce833db1-fb1a-4f89-a492-15d1b6f21682",
   "metadata": {
    "execution": {
     "iopub.execute_input": "2024-08-05T10:24:58.034166Z",
     "iopub.status.busy": "2024-08-05T10:24:58.033794Z",
     "iopub.status.idle": "2024-08-05T10:24:58.038566Z",
     "shell.execute_reply": "2024-08-05T10:24:58.037820Z",
     "shell.execute_reply.started": "2024-08-05T10:24:58.034135Z"
    },
    "tags": []
   },
   "outputs": [],
   "source": [
    "def rag(query):\n",
    "    search_results = search(query)\n",
    "    prompt = build_prompt(query, search_results)\n",
    "    answer = llm(prompt)\n",
    "    return answer"
   ]
  },
  {
   "cell_type": "code",
   "execution_count": 13,
   "id": "4d73216d-70c5-4628-849a-80ab5c4a3be0",
   "metadata": {
    "execution": {
     "iopub.execute_input": "2024-08-05T10:24:58.040224Z",
     "iopub.status.busy": "2024-08-05T10:24:58.039615Z",
     "iopub.status.idle": "2024-08-05T10:25:05.217949Z",
     "shell.execute_reply": "2024-08-05T10:25:05.217061Z",
     "shell.execute_reply.started": "2024-08-05T10:24:58.040187Z"
    },
    "tags": []
   },
   "outputs": [
    {
     "name": "stderr",
     "output_type": "stream",
     "text": [
      "Truncation was not explicitly activated but `max_length` is provided a specific value, please use `truncation=True` to explicitly truncate examples to max length. Defaulting to 'longest_first' truncation strategy. If you encode pairs of sequences (GLUE-style) with the tokenizer you can select this strategy more precisely by providing a specific strategy to `truncation`.\n",
      "Setting `pad_token_id` to `eos_token_id`:2 for open-end generation.\n"
     ]
    },
    {
     "data": {
      "text/plain": [
       "'Yes, you can still join the course.'"
      ]
     },
     "execution_count": 13,
     "metadata": {},
     "output_type": "execute_result"
    }
   ],
   "source": [
    "rag(\"I just discovered the course. Can I still join it?\")"
   ]
  },
  {
   "cell_type": "code",
   "execution_count": null,
   "id": "2bc6bafb-e2f1-405f-8cc0-0ea7a292888c",
   "metadata": {},
   "outputs": [],
   "source": []
  }
 ],
 "metadata": {
  "kernelspec": {
   "display_name": "saturn (Python 3)",
   "language": "python",
   "name": "python3"
  },
  "language_info": {
   "codemirror_mode": {
    "name": "ipython",
    "version": 3
   },
   "file_extension": ".py",
   "mimetype": "text/x-python",
   "name": "python",
   "nbconvert_exporter": "python",
   "pygments_lexer": "ipython3",
   "version": "3.9.18"
  }
 },
 "nbformat": 4,
 "nbformat_minor": 5
}
