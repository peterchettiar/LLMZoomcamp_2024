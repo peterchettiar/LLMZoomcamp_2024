{
 "cells": [
  {
   "cell_type": "code",
   "execution_count": 1,
   "id": "506fab2a-a50c-42bd-a106-c83a9d2828ea",
   "metadata": {
    "execution": {
     "iopub.execute_input": "2024-08-11T09:06:34.305205Z",
     "iopub.status.busy": "2024-08-11T09:06:34.305010Z",
     "iopub.status.idle": "2024-08-11T09:06:35.687675Z",
     "shell.execute_reply": "2024-08-11T09:06:35.686976Z",
     "shell.execute_reply.started": "2024-08-11T09:06:34.305184Z"
    },
    "tags": []
   },
   "outputs": [
    {
     "name": "stdout",
     "output_type": "stream",
     "text": [
      "--2024-08-11 09:06:35--  https://raw.githubusercontent.com/alexeygrigorev/minsearch/main/minsearch.py\n",
      "Resolving raw.githubusercontent.com (raw.githubusercontent.com)... 185.199.108.133, 185.199.111.133, 185.199.110.133, ...\n",
      "Connecting to raw.githubusercontent.com (raw.githubusercontent.com)|185.199.108.133|:443... connected.\n",
      "HTTP request sent, awaiting response... 200 OK\n",
      "Length: 3832 (3.7K) [text/plain]\n",
      "Saving to: ‘minsearch.py’\n",
      "\n",
      "minsearch.py        100%[===================>]   3.74K  --.-KB/s    in 0s      \n",
      "\n",
      "2024-08-11 09:06:35 (78.2 MB/s) - ‘minsearch.py’ saved [3832/3832]\n",
      "\n"
     ]
    }
   ],
   "source": [
    "!rm -f minsearch.py\n",
    "!wget https://raw.githubusercontent.com/alexeygrigorev/minsearch/main/minsearch.py"
   ]
  },
  {
   "cell_type": "code",
   "execution_count": 2,
   "id": "3ac947de-effd-4b61-8792-a6d7a133f347",
   "metadata": {
    "execution": {
     "iopub.execute_input": "2024-08-11T09:06:35.689694Z",
     "iopub.status.busy": "2024-08-11T09:06:35.689371Z",
     "iopub.status.idle": "2024-08-11T09:06:36.937957Z",
     "shell.execute_reply": "2024-08-11T09:06:36.937203Z",
     "shell.execute_reply.started": "2024-08-11T09:06:35.689667Z"
    },
    "tags": []
   },
   "outputs": [
    {
     "data": {
      "text/plain": [
       "<minsearch.Index at 0x7f995ce23910>"
      ]
     },
     "execution_count": 2,
     "metadata": {},
     "output_type": "execute_result"
    }
   ],
   "source": [
    "import requests \n",
    "import minsearch\n",
    "\n",
    "docs_url = 'https://github.com/DataTalksClub/llm-zoomcamp/blob/main/01-intro/documents.json?raw=1'\n",
    "docs_response = requests.get(docs_url)\n",
    "documents_raw = docs_response.json()\n",
    "\n",
    "documents = []\n",
    "\n",
    "for course in documents_raw:\n",
    "    course_name = course['course']\n",
    "\n",
    "    for doc in course['documents']:\n",
    "        doc['course'] = course_name\n",
    "        documents.append(doc)\n",
    "\n",
    "index = minsearch.Index(\n",
    "    text_fields=[\"question\", \"text\", \"section\"],\n",
    "    keyword_fields=[\"course\"]\n",
    ")\n",
    "\n",
    "index.fit(documents)"
   ]
  },
  {
   "cell_type": "code",
   "execution_count": 3,
   "id": "8f087272-b44d-4738-9ea2-175ec63a058b",
   "metadata": {
    "execution": {
     "iopub.execute_input": "2024-08-11T09:06:36.939694Z",
     "iopub.status.busy": "2024-08-11T09:06:36.939162Z",
     "iopub.status.idle": "2024-08-11T09:06:36.944947Z",
     "shell.execute_reply": "2024-08-11T09:06:36.944137Z",
     "shell.execute_reply.started": "2024-08-11T09:06:36.939655Z"
    },
    "tags": []
   },
   "outputs": [],
   "source": [
    "def search(query):\n",
    "    boost = {'question': 3.0, 'section': 0.5}\n",
    "\n",
    "    results = index.search(\n",
    "        query=query,\n",
    "        filter_dict={'course': 'data-engineering-zoomcamp'},\n",
    "        boost_dict=boost,\n",
    "        num_results=5\n",
    "    )\n",
    "\n",
    "    return results"
   ]
  },
  {
   "cell_type": "code",
   "execution_count": 4,
   "id": "742ab881-499a-4675-83c4-2013ea1377b9",
   "metadata": {
    "execution": {
     "iopub.execute_input": "2024-08-11T09:06:36.946689Z",
     "iopub.status.busy": "2024-08-11T09:06:36.946259Z",
     "iopub.status.idle": "2024-08-11T09:06:36.953806Z",
     "shell.execute_reply": "2024-08-11T09:06:36.952884Z",
     "shell.execute_reply.started": "2024-08-11T09:06:36.946652Z"
    }
   },
   "outputs": [],
   "source": [
    "def build_prompt(query, search_results):\n",
    "    prompt_template = \"\"\"\n",
    "You're a course teaching assistant. Answer the QUESTION based on the CONTEXT from the FAQ database.\n",
    "Use only the facts from the CONTEXT when answering the QUESTION.\n",
    "\n",
    "QUESTION: {question}\n",
    "\n",
    "CONTEXT: \n",
    "{context}\n",
    "\"\"\".strip()\n",
    "\n",
    "    context = \"\"\n",
    "    \n",
    "    for doc in search_results:\n",
    "        context = context + f\"section: {doc['section']}\\nquestion: {doc['question']}\\nanswer: {doc['text']}\\n\\n\"\n",
    "    \n",
    "    prompt = prompt_template.format(question=query, context=context).strip()\n",
    "    return prompt\n",
    "\n",
    "def llm(prompt):\n",
    "    response = client.chat.completions.create(\n",
    "        model='phi3',\n",
    "        messages=[{\"role\": \"user\", \"content\": prompt}]\n",
    "    )\n",
    "    \n",
    "    return response.choices[0].message.content"
   ]
  },
  {
   "cell_type": "code",
   "execution_count": 5,
   "id": "fe8bff3e-b672-42be-866b-f2d9bb217106",
   "metadata": {
    "execution": {
     "iopub.execute_input": "2024-08-11T09:06:36.955150Z",
     "iopub.status.busy": "2024-08-11T09:06:36.954836Z",
     "iopub.status.idle": "2024-08-11T09:06:36.959590Z",
     "shell.execute_reply": "2024-08-11T09:06:36.958759Z",
     "shell.execute_reply.started": "2024-08-11T09:06:36.955127Z"
    }
   },
   "outputs": [],
   "source": [
    "def rag(query):\n",
    "    search_results = search(query)\n",
    "    prompt = build_prompt(query, search_results)\n",
    "    answer = llm(prompt)\n",
    "    return answer"
   ]
  },
  {
   "cell_type": "code",
   "execution_count": 6,
   "id": "988ece59-951a-4b32-ba3f-cb8efb66a9bb",
   "metadata": {
    "execution": {
     "iopub.execute_input": "2024-08-11T09:06:36.960841Z",
     "iopub.status.busy": "2024-08-11T09:06:36.960567Z",
     "iopub.status.idle": "2024-08-11T09:06:37.460085Z",
     "shell.execute_reply": "2024-08-11T09:06:37.459449Z",
     "shell.execute_reply.started": "2024-08-11T09:06:36.960819Z"
    }
   },
   "outputs": [],
   "source": [
    "from openai import OpenAI\n",
    "\n",
    "client = OpenAI(\n",
    "    base_url='http://localhost:11434/v1/',\n",
    "    api_key='ollama',\n",
    ")"
   ]
  },
  {
   "cell_type": "code",
   "execution_count": 7,
   "id": "2dbd9158-b4da-4521-ac75-1d08a9c9c018",
   "metadata": {
    "execution": {
     "iopub.execute_input": "2024-08-11T09:06:37.462927Z",
     "iopub.status.busy": "2024-08-11T09:06:37.462463Z",
     "iopub.status.idle": "2024-08-11T09:06:40.611821Z",
     "shell.execute_reply": "2024-08-11T09:06:40.610875Z",
     "shell.execute_reply.started": "2024-08-11T09:06:37.462888Z"
    },
    "tags": []
   },
   "outputs": [
    {
     "data": {
      "text/plain": [
       "'This document serves as the initial draft for what will soon become an extensive examination of market segmentation impacting businesses within urban environments. As part of our ongoing initiative, we invite readers to acknowledge and thoroughly review its contents with critical thoughtfulness before it undergoes a comprehensive refinement process led by industry experts John Smithson and Jane Doe later in the year.\\n\\nFurthermore, while this document remains unreleased publicly until further notice due to privacy reasons concerning some internal processes disclosed within its chapters that remain confidential for corporate security protocol adherence as requesteded, we are committed to providing authorized personnel ample time preceding the official release. We anticipate all necessary redacting and sensitive data obfuscation will be concluded by July 15th.\\n\\nFinally, I wish to assure you that this document is merely a draft—an initial proposal awaiting your valuable insights for further enhancement before its final version can contribute effectively as an authoritative resource within the scope of our professional community and academia dedicated to strategic market analysis related subjects or business studies.'"
      ]
     },
     "execution_count": 7,
     "metadata": {},
     "output_type": "execute_result"
    }
   ],
   "source": [
    "llm('write that this is a test')"
   ]
  },
  {
   "cell_type": "code",
   "execution_count": 8,
   "id": "2bc60caf-ee68-489e-ab76-3f3698a71aa0",
   "metadata": {
    "execution": {
     "iopub.execute_input": "2024-08-11T09:19:31.102462Z",
     "iopub.status.busy": "2024-08-11T09:19:31.102078Z",
     "iopub.status.idle": "2024-08-11T09:19:31.106985Z",
     "shell.execute_reply": "2024-08-11T09:19:31.106150Z",
     "shell.execute_reply.started": "2024-08-11T09:19:31.102428Z"
    },
    "tags": []
   },
   "outputs": [
    {
     "name": "stdout",
     "output_type": "stream",
     "text": [
      "This document serves as the initial draft for what will soon become an extensive examination of market segmentation impacting businesses within urban environments. As part of our ongoing initiative, we invite readers to acknowledge and thoroughly review its contents with critical thoughtfulness before it undergoes a comprehensive refinement process led by industry experts John Smithson and Jane Doe later in the year.\n",
      "\n",
      "Furthermore, while this document remains unreleased publicly until further notice due to privacy reasons concerning some internal processes disclosed within its chapters that remain confidential for corporate security protocol adherence as requesteded, we are committed to providing authorized personnel ample time preceding the official release. We anticipate all necessary redacting and sensitive data obfuscation will be concluded by July 15th.\n",
      "\n",
      "Finally, I wish to assure you that this document is merely a draft—an initial proposal awaiting your valuable insights for further enhancement before its final version can contribute effectively as an authoritative resource within the scope of our professional community and academia dedicated to strategic market analysis related subjects or business studies.\n"
     ]
    }
   ],
   "source": [
    "print(_)"
   ]
  },
  {
   "cell_type": "code",
   "execution_count": null,
   "id": "bca3ebe3-1a71-4abf-87f0-db6dff6527c5",
   "metadata": {},
   "outputs": [],
   "source": []
  }
 ],
 "metadata": {
  "kernelspec": {
   "display_name": "saturn (Python 3)",
   "language": "python",
   "name": "python3"
  },
  "language_info": {
   "codemirror_mode": {
    "name": "ipython",
    "version": 3
   },
   "file_extension": ".py",
   "mimetype": "text/x-python",
   "name": "python",
   "nbconvert_exporter": "python",
   "pygments_lexer": "ipython3",
   "version": "3.9.18"
  }
 },
 "nbformat": 4,
 "nbformat_minor": 5
}
