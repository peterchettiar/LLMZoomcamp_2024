{
 "cells": [
  {
   "cell_type": "code",
   "execution_count": 1,
   "metadata": {},
   "outputs": [],
   "source": [
    "import pandas as pd\n",
    "from openai import OpenAI\n",
    "from pprint import pprint"
   ]
  },
  {
   "cell_type": "code",
   "execution_count": 2,
   "metadata": {},
   "outputs": [],
   "source": [
    "client = OpenAI()"
   ]
  },
  {
   "cell_type": "code",
   "execution_count": null,
   "metadata": {},
   "outputs": [],
   "source": [
    "# run this to see if the environment variable was created properly - I will not run it now\n",
    "\n",
    "import os\n",
    "\n",
    "os.getenv('OPENAI_API_KEY')"
   ]
  },
  {
   "cell_type": "code",
   "execution_count": 3,
   "metadata": {},
   "outputs": [],
   "source": [
    "response = client.chat.completions.create(\n",
    "    model='gpt-4o',\n",
    "    messages=[{\"role\": \"user\",\"content\": \"is too late to join the course?\"}]\n",
    "    )"
   ]
  },
  {
   "cell_type": "code",
   "execution_count": 4,
   "metadata": {},
   "outputs": [
    {
     "name": "stdout",
     "output_type": "stream",
     "text": [
      "('It depends on several factors, such as the specific course you are referring '\n",
      " 'to, its enrollment deadlines, and its policy on accepting late '\n",
      " \"registrations. Here are a few steps you can take to find out if it's too \"\n",
      " 'late to join the course:\\n'\n",
      " '\\n'\n",
      " \"1. **Check Enrollment Deadlines**: Look up the course on the institution's \"\n",
      " \"or platform's website to see if there are any specified deadlines for \"\n",
      " 'enrollment.\\n'\n",
      " '\\n'\n",
      " '2. **Contact the Instructor or Institution**: Reach out directly to the '\n",
      " 'course instructor or the administrative office to inquire if late '\n",
      " 'registration is possible. Some courses may allow late enrollment for a '\n",
      " 'limited time or under special circumstances.\\n'\n",
      " '\\n'\n",
      " '3. **Review Course Policies**: Some courses have specific policies regarding '\n",
      " 'late enrollment, including potential penalties or missed work that you need '\n",
      " 'to catch up on. Ensure you understand these before you proceed.\\n'\n",
      " '\\n'\n",
      " '4. **Consider Prerequisites**: If the course requires prior knowledge or '\n",
      " 'completion of prerequisite materials, assess whether you can realistically '\n",
      " 'catch up in a short amount of time.\\n'\n",
      " '\\n'\n",
      " '5. **Online Platforms**: If the course is offered online, platforms like '\n",
      " 'Coursera, edX, Udemy, etc., often have flexible enrollment options, and you '\n",
      " 'may be able to start the course at any time or at set intervals.\\n'\n",
      " '\\n'\n",
      " '6. **Pro-Rata Tuition**: Some institutions may adjust the tuition fees based '\n",
      " \"on the time of enrollment, so inquire about this if it's relevant.\\n\"\n",
      " '\\n'\n",
      " 'If you provide more specific details, I might be able to give more targeted '\n",
      " 'advice.')\n"
     ]
    }
   ],
   "source": [
    "pprint(response.choices[0].message.content)"
   ]
  },
  {
   "cell_type": "code",
   "execution_count": null,
   "metadata": {},
   "outputs": [],
   "source": []
  }
 ],
 "metadata": {
  "kernelspec": {
   "display_name": "Python 3 (ipykernel)",
   "language": "python",
   "name": "python3"
  },
  "language_info": {
   "codemirror_mode": {
    "name": "ipython",
    "version": 3
   },
   "file_extension": ".py",
   "mimetype": "text/x-python",
   "name": "python",
   "nbconvert_exporter": "python",
   "pygments_lexer": "ipython3",
   "version": "3.10.13"
  }
 },
 "nbformat": 4,
 "nbformat_minor": 4
}
