{
 "cells": [
  {
   "cell_type": "markdown",
   "metadata": {},
   "source": [
    "### Importing the necessary libraries"
   ]
  },
  {
   "cell_type": "code",
   "execution_count": 1,
   "metadata": {
    "execution": {
     "iopub.execute_input": "2024-09-27T09:37:46.060461Z",
     "iopub.status.busy": "2024-09-27T09:37:46.060229Z",
     "iopub.status.idle": "2024-09-27T09:37:46.949871Z",
     "shell.execute_reply": "2024-09-27T09:37:46.949252Z",
     "shell.execute_reply.started": "2024-09-27T09:37:46.060431Z"
    },
    "tags": []
   },
   "outputs": [],
   "source": [
    "import json\n",
    "import warnings\n",
    "import hashlib\n",
    "from openai import OpenAI\n",
    "from tqdm.auto import tqdm\n",
    "import pandas as pd\n",
    "import re\n",
    "\n",
    "warnings.filterwarnings(\"ignore\")"
   ]
  },
  {
   "cell_type": "markdown",
   "metadata": {},
   "source": [
    "### Data Loading and Preprocessing"
   ]
  },
  {
   "cell_type": "code",
   "execution_count": 2,
   "metadata": {
    "execution": {
     "iopub.execute_input": "2024-09-27T09:37:46.951757Z",
     "iopub.status.busy": "2024-09-27T09:37:46.951361Z",
     "iopub.status.idle": "2024-09-27T09:37:46.960835Z",
     "shell.execute_reply": "2024-09-27T09:37:46.960056Z",
     "shell.execute_reply.started": "2024-09-27T09:37:46.951733Z"
    },
    "tags": []
   },
   "outputs": [],
   "source": [
    "# loading raw file\n",
    "with open('documents.json', 'rb') as file:\n",
    "    docs_raw = json.load(file)\n",
    "\n",
    "# flattening raw file into list of dictionaries\n",
    "documents = [{'course': course_dict['course'], 'section': docs['section'], 'question': docs['question'], 'text': docs['text']} \\\n",
    "            for course_dict in docs_raw \\\n",
    "            for docs in course_dict['documents']]"
   ]
  },
  {
   "cell_type": "code",
   "execution_count": 3,
   "metadata": {
    "execution": {
     "iopub.execute_input": "2024-09-27T09:37:46.962596Z",
     "iopub.status.busy": "2024-09-27T09:37:46.961957Z",
     "iopub.status.idle": "2024-09-27T09:37:46.970684Z",
     "shell.execute_reply": "2024-09-27T09:37:46.969995Z",
     "shell.execute_reply.started": "2024-09-27T09:37:46.962560Z"
    },
    "tags": []
   },
   "outputs": [
    {
     "data": {
      "text/plain": [
       "{'course': 'data-engineering-zoomcamp',\n",
       " 'section': 'General course-related questions',\n",
       " 'question': 'Course - When will the course start?',\n",
       " 'text': \"The purpose of this document is to capture frequently asked technical questions\\nThe exact day and hour of the course will be 15th Jan 2024 at 17h00. The course will start with the first  “Office Hours'' live.1\\nSubscribe to course public Google Calendar (it works from Desktop only).\\nRegister before the course starts using this link.\\nJoin the course Telegram channel with announcements.\\nDon’t forget to register in DataTalks.Club's Slack and join the channel.\"}"
      ]
     },
     "execution_count": 3,
     "metadata": {},
     "output_type": "execute_result"
    }
   ],
   "source": [
    "documents[0]"
   ]
  },
  {
   "cell_type": "markdown",
   "metadata": {},
   "source": [
    "### Generating Stable IDs for documents\n",
    "\n",
    "This ID will be used to reference the document in the evaluation process"
   ]
  },
  {
   "cell_type": "code",
   "execution_count": 4,
   "metadata": {
    "execution": {
     "iopub.execute_input": "2024-09-27T09:37:46.971783Z",
     "iopub.status.busy": "2024-09-27T09:37:46.971520Z",
     "iopub.status.idle": "2024-09-27T09:37:46.976095Z",
     "shell.execute_reply": "2024-09-27T09:37:46.975418Z",
     "shell.execute_reply.started": "2024-09-27T09:37:46.971762Z"
    },
    "tags": []
   },
   "outputs": [],
   "source": [
    "# a simple function to generate hash ids based on the concatenation of all our dictionary values\n",
    "def generate_doc_id(doc:dict) -> dict:\n",
    "\n",
    "    # first let's Concatenate the different fields together\n",
    "    combined = \"-\".join(doc.values())\n",
    "\n",
    "    # now to hash our combined unique id\n",
    "    hash_object = hashlib.md5(combined.encode()) # converts string to bytes\n",
    "\n",
    "    # generates the MD5 hash of the encoded string and converts it to a hexidecimal string\n",
    "    hash_hex = hash_object.hexdigest()\n",
    "\n",
    "    return hash_hex[:8]  # only returning the first 8 characters of the hexidecimal string"
   ]
  },
  {
   "cell_type": "code",
   "execution_count": 5,
   "metadata": {
    "execution": {
     "iopub.execute_input": "2024-09-27T09:37:46.977759Z",
     "iopub.status.busy": "2024-09-27T09:37:46.977117Z",
     "iopub.status.idle": "2024-09-27T09:37:46.987830Z",
     "shell.execute_reply": "2024-09-27T09:37:46.987118Z",
     "shell.execute_reply.started": "2024-09-27T09:37:46.977724Z"
    },
    "tags": []
   },
   "outputs": [
    {
     "data": {
      "text/plain": [
       "{'course': 'data-engineering-zoomcamp',\n",
       " 'section': 'General course-related questions',\n",
       " 'question': 'Course - When will the course start?',\n",
       " 'text': \"The purpose of this document is to capture frequently asked technical questions\\nThe exact day and hour of the course will be 15th Jan 2024 at 17h00. The course will start with the first  “Office Hours'' live.1\\nSubscribe to course public Google Calendar (it works from Desktop only).\\nRegister before the course starts using this link.\\nJoin the course Telegram channel with announcements.\\nDon’t forget to register in DataTalks.Club's Slack and join the channel.\",\n",
       " 'id': '7000acaa'}"
      ]
     },
     "execution_count": 5,
     "metadata": {},
     "output_type": "execute_result"
    }
   ],
   "source": [
    "# using our function to generate the IDs key-value pairs\n",
    "documents_updated = [doc.update({'id': generate_doc_id(doc)}) or doc for doc in documents]\n",
    "\n",
    "documents_updated[0]"
   ]
  },
  {
   "cell_type": "code",
   "execution_count": 6,
   "metadata": {
    "execution": {
     "iopub.execute_input": "2024-09-27T09:37:46.989153Z",
     "iopub.status.busy": "2024-09-27T09:37:46.988766Z",
     "iopub.status.idle": "2024-09-27T09:37:46.995545Z",
     "shell.execute_reply": "2024-09-27T09:37:46.994875Z",
     "shell.execute_reply.started": "2024-09-27T09:37:46.989119Z"
    },
    "tags": []
   },
   "outputs": [
    {
     "data": {
      "text/plain": [
       "True"
      ]
     },
     "execution_count": 6,
     "metadata": {},
     "output_type": "execute_result"
    }
   ],
   "source": [
    "# let's quickly check if the ids we generated are unique\n",
    "hashes = [doc['id'] for doc in documents_updated]\n",
    "\n",
    "len(documents_updated) == len(set(hashes))"
   ]
  },
  {
   "cell_type": "markdown",
   "metadata": {},
   "source": [
    "### Using an LLM model to generate questions for each record ID"
   ]
  },
  {
   "cell_type": "code",
   "execution_count": 7,
   "metadata": {
    "execution": {
     "iopub.execute_input": "2024-09-27T09:37:46.998160Z",
     "iopub.status.busy": "2024-09-27T09:37:46.997869Z",
     "iopub.status.idle": "2024-09-27T09:37:47.012293Z",
     "shell.execute_reply": "2024-09-27T09:37:47.011762Z",
     "shell.execute_reply.started": "2024-09-27T09:37:46.998139Z"
    },
    "tags": []
   },
   "outputs": [],
   "source": [
    "# intialising the openai client so that we can use the chatgpt-4o model to generate our questions for each record ID\n",
    "openai_client = OpenAI()"
   ]
  },
  {
   "cell_type": "code",
   "execution_count": 8,
   "metadata": {
    "execution": {
     "iopub.execute_input": "2024-09-27T09:37:47.013372Z",
     "iopub.status.busy": "2024-09-27T09:37:47.013091Z",
     "iopub.status.idle": "2024-09-27T09:37:47.018349Z",
     "shell.execute_reply": "2024-09-27T09:37:47.017589Z",
     "shell.execute_reply.started": "2024-09-27T09:37:47.013352Z"
    },
    "tags": []
   },
   "outputs": [],
   "source": [
    "# now to create out prompt template - we will use the template provided in the course\n",
    "\n",
    "prompt_template = \"\"\"\n",
    "You emulate a student who's taking our course.\n",
    "Formulate 5 questions this student might ask based on a FAQ record. The record\n",
    "should contain the answer to the questions, and the questions should be complete and not too short.\n",
    "If possible, use as fewer words as possible from the record. \n",
    "\n",
    "The record:\n",
    "\n",
    "section: {section}\n",
    "question: {question}\n",
    "answer: {text}\n",
    "\n",
    "Provide the output in parsable JSON without using code blocks:\n",
    "\n",
    "[\"question1\", \"question2\", ..., \"question5\"]\n",
    "\"\"\".strip()"
   ]
  },
  {
   "cell_type": "code",
   "execution_count": 9,
   "metadata": {
    "execution": {
     "iopub.execute_input": "2024-09-27T09:37:47.019925Z",
     "iopub.status.busy": "2024-09-27T09:37:47.019462Z",
     "iopub.status.idle": "2024-09-27T09:37:47.024506Z",
     "shell.execute_reply": "2024-09-27T09:37:47.023878Z",
     "shell.execute_reply.started": "2024-09-27T09:37:47.019890Z"
    },
    "tags": []
   },
   "outputs": [],
   "source": [
    "# next we want to write a simple function that generates the question for each record:\n",
    "def generate_questions(doc_dict):\n",
    "    # each key in doc_dict corresponds to a placeholder in prompt_template, and the associated value will be inserted into the template\n",
    "    prompt = prompt_template.format(**doc_dict)\n",
    "    \n",
    "    responses = openai_client.chat.completions.create(\n",
    "        model = 'gpt-3.5-turbo',\n",
    "        messages = [{'role':'user', 'content': prompt}]\n",
    "    )\n",
    "    \n",
    "    return responses.choices[0].message.content"
   ]
  },
  {
   "cell_type": "code",
   "execution_count": 10,
   "metadata": {
    "execution": {
     "iopub.execute_input": "2024-09-27T09:37:47.025598Z",
     "iopub.status.busy": "2024-09-27T09:37:47.025305Z",
     "iopub.status.idle": "2024-09-27T09:37:47.941457Z",
     "shell.execute_reply": "2024-09-27T09:37:47.940782Z",
     "shell.execute_reply.started": "2024-09-27T09:37:47.025576Z"
    },
    "tags": []
   },
   "outputs": [
    {
     "name": "stdout",
     "output_type": "stream",
     "text": [
      "[\n",
      "    \"What are the prerequisites for this course?\",\n",
      "    \"Do I need any specific knowledge or background to enroll?\",\n",
      "    \"Are there any requirements to join this course?\",\n",
      "    \"What do I need to know before taking this course?\",\n",
      "    \"Is there a certain level of expertise needed to participate in this course?\"\n",
      "]\n"
     ]
    }
   ],
   "source": [
    "print(generate_questions(documents_updated[1]))"
   ]
  },
  {
   "cell_type": "code",
   "execution_count": 11,
   "metadata": {
    "execution": {
     "iopub.execute_input": "2024-09-27T09:37:47.942832Z",
     "iopub.status.busy": "2024-09-27T09:37:47.942438Z",
     "iopub.status.idle": "2024-09-27T09:58:23.345714Z",
     "shell.execute_reply": "2024-09-27T09:58:23.344848Z",
     "shell.execute_reply.started": "2024-09-27T09:37:47.942805Z"
    },
    "tags": []
   },
   "outputs": [
    {
     "data": {
      "application/vnd.jupyter.widget-view+json": {
       "model_id": "e4d236e15a684e97ad128c91fd958118",
       "version_major": 2,
       "version_minor": 0
      },
      "text/plain": [
       "  0%|          | 0/948 [00:00<?, ?it/s]"
      ]
     },
     "metadata": {},
     "output_type": "display_data"
    }
   ],
   "source": [
    "# now to generate the questions for each record id\n",
    "results = [{'Course': doc['course'], 'document_ID': doc['id'], 'Questions': generate_questions(doc)} for doc in tqdm(documents_updated)]"
   ]
  },
  {
   "cell_type": "code",
   "execution_count": 12,
   "metadata": {
    "execution": {
     "iopub.execute_input": "2024-09-27T09:58:23.347145Z",
     "iopub.status.busy": "2024-09-27T09:58:23.346733Z",
     "iopub.status.idle": "2024-09-27T09:58:23.351947Z",
     "shell.execute_reply": "2024-09-27T09:58:23.351205Z",
     "shell.execute_reply.started": "2024-09-27T09:58:23.347118Z"
    },
    "tags": []
   },
   "outputs": [
    {
     "data": {
      "text/plain": [
       "{'Course': 'data-engineering-zoomcamp',\n",
       " 'document_ID': '7000acaa',\n",
       " 'Questions': '[\\n\"Course - When will the course start?\",\\n\"What is the exact day and hour of the course?\",\\n\"How can I subscribe to the course public Google Calendar?\",\\n\"What do I need to do before the course starts?\",\\n\"How can I join the course Telegram channel with announcements?\"\\n]'}"
      ]
     },
     "execution_count": 12,
     "metadata": {},
     "output_type": "execute_result"
    }
   ],
   "source": [
    "# let's have a quick look at the results\n",
    "results[0]"
   ]
  },
  {
   "cell_type": "code",
   "execution_count": 13,
   "metadata": {
    "execution": {
     "iopub.execute_input": "2024-09-27T09:58:23.353475Z",
     "iopub.status.busy": "2024-09-27T09:58:23.353048Z",
     "iopub.status.idle": "2024-09-27T09:58:23.360203Z",
     "shell.execute_reply": "2024-09-27T09:58:23.359583Z",
     "shell.execute_reply.started": "2024-09-27T09:58:23.353441Z"
    },
    "tags": []
   },
   "outputs": [],
   "source": [
    "# lets write a function that is able to parse our questions in results from a JSON object into a python object\n",
    "\n",
    "def parse_results(res_dict: dict) -> dict:\n",
    "    clean_dict = {}\n",
    "    \n",
    "    clean_dict['Course'] = res_dict['Course']\n",
    "    clean_dict['document_ID'] = res_dict['document_ID']\n",
    "    \n",
    "    try:\n",
    "        tmp_ques = json.loads(res_dict['Questions'])\n",
    "        if type(tmp_ques) == list:\n",
    "            clean_dict['Question'] = tmp_ques\n",
    "        else:\n",
    "            clean_dict['Question'] = list(tmp_ques.values())\n",
    "    except:\n",
    "        # the error is specific - so a hot fix for this item\n",
    "        clean_dict['Question'] = [\n",
    "            \"Why am I getting the error column c.relhasoids does not exist when using the command \\\\d <database name>?\",\n",
    "            \"What should I do to resolve the error with pgcli?\",\n",
    "            \"Should I uninstall pgcli to fix the issue?\",\n",
    "            \"What steps should I take after reinstalling pgcli?\",\n",
    "            \"Is restarting the PC necessary to resolve the error?\"\n",
    "        ]\n",
    "    \n",
    "    return clean_dict"
   ]
  },
  {
   "cell_type": "code",
   "execution_count": 14,
   "metadata": {
    "execution": {
     "iopub.execute_input": "2024-09-27T09:58:23.361260Z",
     "iopub.status.busy": "2024-09-27T09:58:23.360990Z",
     "iopub.status.idle": "2024-09-27T09:58:23.370749Z",
     "shell.execute_reply": "2024-09-27T09:58:23.370008Z",
     "shell.execute_reply.started": "2024-09-27T09:58:23.361241Z"
    },
    "tags": []
   },
   "outputs": [
    {
     "data": {
      "text/plain": [
       "{'Course': 'data-engineering-zoomcamp',\n",
       " 'document_ID': '43f16b6e',\n",
       " 'Question': [\"Why do I get the error 'column c.relhasoids does not exist' when using the command '\\\\d <database name>' in pgcli?\",\n",
       "  \"What is the resolution for the error 'column c.relhasoids does not exist' in pgcli?\",\n",
       "  'What should I do if I encounter the error \\'database \"ny_taxi\" does not exist\\'?',\n",
       "  \"Why should I uninstall pgcli when facing the error 'column c.relhasoids does not exist'?\",\n",
       "  'Why is it recommended to restart the pc after reinstalling pgcli?']}"
      ]
     },
     "execution_count": 14,
     "metadata": {},
     "output_type": "execute_result"
    }
   ],
   "source": [
    "parsed_results = [parse_results(res) for res in results]\n",
    "\n",
    "parsed_results[108]"
   ]
  },
  {
   "cell_type": "markdown",
   "metadata": {},
   "source": [
    "### Final Step - move parsed results dictionary into a dataframe and throw .csv output"
   ]
  },
  {
   "cell_type": "code",
   "execution_count": 15,
   "metadata": {
    "execution": {
     "iopub.execute_input": "2024-09-27T09:58:23.371779Z",
     "iopub.status.busy": "2024-09-27T09:58:23.371525Z",
     "iopub.status.idle": "2024-09-27T09:58:23.382784Z",
     "shell.execute_reply": "2024-09-27T09:58:23.382017Z",
     "shell.execute_reply.started": "2024-09-27T09:58:23.371759Z"
    },
    "tags": []
   },
   "outputs": [
    {
     "data": {
      "text/html": [
       "<div>\n",
       "<style scoped>\n",
       "    .dataframe tbody tr th:only-of-type {\n",
       "        vertical-align: middle;\n",
       "    }\n",
       "\n",
       "    .dataframe tbody tr th {\n",
       "        vertical-align: top;\n",
       "    }\n",
       "\n",
       "    .dataframe thead th {\n",
       "        text-align: right;\n",
       "    }\n",
       "</style>\n",
       "<table border=\"1\" class=\"dataframe\">\n",
       "  <thead>\n",
       "    <tr style=\"text-align: right;\">\n",
       "      <th></th>\n",
       "      <th>Course</th>\n",
       "      <th>document_ID</th>\n",
       "      <th>Question</th>\n",
       "    </tr>\n",
       "  </thead>\n",
       "  <tbody>\n",
       "    <tr>\n",
       "      <th>0</th>\n",
       "      <td>data-engineering-zoomcamp</td>\n",
       "      <td>7000acaa</td>\n",
       "      <td>[Course - When will the course start?, What is...</td>\n",
       "    </tr>\n",
       "    <tr>\n",
       "      <th>1</th>\n",
       "      <td>data-engineering-zoomcamp</td>\n",
       "      <td>589ff45b</td>\n",
       "      <td>[What are the prerequisites for this course?, ...</td>\n",
       "    </tr>\n",
       "    <tr>\n",
       "      <th>2</th>\n",
       "      <td>data-engineering-zoomcamp</td>\n",
       "      <td>dc2b8c0f</td>\n",
       "      <td>[Is it possible to enroll in the course after ...</td>\n",
       "    </tr>\n",
       "    <tr>\n",
       "      <th>3</th>\n",
       "      <td>data-engineering-zoomcamp</td>\n",
       "      <td>081e4c4b</td>\n",
       "      <td>[I have registered for the Data Engineering Bo...</td>\n",
       "    </tr>\n",
       "    <tr>\n",
       "      <th>4</th>\n",
       "      <td>data-engineering-zoomcamp</td>\n",
       "      <td>806339a9</td>\n",
       "      <td>[What can I do to prepare before the course st...</td>\n",
       "    </tr>\n",
       "  </tbody>\n",
       "</table>\n",
       "</div>"
      ],
      "text/plain": [
       "                      Course document_ID  \\\n",
       "0  data-engineering-zoomcamp    7000acaa   \n",
       "1  data-engineering-zoomcamp    589ff45b   \n",
       "2  data-engineering-zoomcamp    dc2b8c0f   \n",
       "3  data-engineering-zoomcamp    081e4c4b   \n",
       "4  data-engineering-zoomcamp    806339a9   \n",
       "\n",
       "                                            Question  \n",
       "0  [Course - When will the course start?, What is...  \n",
       "1  [What are the prerequisites for this course?, ...  \n",
       "2  [Is it possible to enroll in the course after ...  \n",
       "3  [I have registered for the Data Engineering Bo...  \n",
       "4  [What can I do to prepare before the course st...  "
      ]
     },
     "execution_count": 15,
     "metadata": {},
     "output_type": "execute_result"
    }
   ],
   "source": [
    "# now to convert our results dictionary to a pandas dataframe\n",
    "\n",
    "ground_truth = pd.DataFrame(data=parsed_results)\n",
    "ground_truth.head()"
   ]
  },
  {
   "cell_type": "code",
   "execution_count": 16,
   "metadata": {
    "execution": {
     "iopub.execute_input": "2024-09-27T09:58:23.384545Z",
     "iopub.status.busy": "2024-09-27T09:58:23.383486Z",
     "iopub.status.idle": "2024-09-27T09:58:23.388404Z",
     "shell.execute_reply": "2024-09-27T09:58:23.387824Z",
     "shell.execute_reply.started": "2024-09-27T09:58:23.384523Z"
    },
    "tags": []
   },
   "outputs": [],
   "source": [
    "# realised there were some issues with the question column - there are some outputs with nested listing\n",
    "# hence we need to flatten list further using the followinf function before exploding\n",
    "\n",
    "def flatten_list(obj):\n",
    "    if isinstance(obj[0], list):\n",
    "        return obj[0]\n",
    "    elif isinstance(obj[0], dict):\n",
    "        result = [i[0] for i in [list(item.values()) for item in obj]]\n",
    "        return result\n",
    "    else:\n",
    "        return obj"
   ]
  },
  {
   "cell_type": "code",
   "execution_count": 17,
   "metadata": {
    "execution": {
     "iopub.execute_input": "2024-09-27T09:58:23.389451Z",
     "iopub.status.busy": "2024-09-27T09:58:23.389153Z",
     "iopub.status.idle": "2024-09-27T09:58:23.394320Z",
     "shell.execute_reply": "2024-09-27T09:58:23.393774Z",
     "shell.execute_reply.started": "2024-09-27T09:58:23.389429Z"
    },
    "tags": []
   },
   "outputs": [],
   "source": [
    "ground_truth['Question'] = ground_truth['Question'].apply(lambda x : flatten_list(x))"
   ]
  },
  {
   "cell_type": "code",
   "execution_count": 18,
   "metadata": {
    "execution": {
     "iopub.execute_input": "2024-09-27T09:58:23.395409Z",
     "iopub.status.busy": "2024-09-27T09:58:23.395099Z",
     "iopub.status.idle": "2024-09-27T09:58:23.403209Z",
     "shell.execute_reply": "2024-09-27T09:58:23.402662Z",
     "shell.execute_reply.started": "2024-09-27T09:58:23.395388Z"
    },
    "tags": []
   },
   "outputs": [],
   "source": [
    "# lets now explode the question column\n",
    "ground_truth = ground_truth.explode('Question', ignore_index=True)"
   ]
  },
  {
   "cell_type": "code",
   "execution_count": 19,
   "metadata": {
    "execution": {
     "iopub.execute_input": "2024-09-27T09:58:23.404217Z",
     "iopub.status.busy": "2024-09-27T09:58:23.403957Z",
     "iopub.status.idle": "2024-09-27T09:58:23.411454Z",
     "shell.execute_reply": "2024-09-27T09:58:23.410805Z",
     "shell.execute_reply.started": "2024-09-27T09:58:23.404197Z"
    },
    "tags": []
   },
   "outputs": [
    {
     "data": {
      "text/html": [
       "<div>\n",
       "<style scoped>\n",
       "    .dataframe tbody tr th:only-of-type {\n",
       "        vertical-align: middle;\n",
       "    }\n",
       "\n",
       "    .dataframe tbody tr th {\n",
       "        vertical-align: top;\n",
       "    }\n",
       "\n",
       "    .dataframe thead th {\n",
       "        text-align: right;\n",
       "    }\n",
       "</style>\n",
       "<table border=\"1\" class=\"dataframe\">\n",
       "  <thead>\n",
       "    <tr style=\"text-align: right;\">\n",
       "      <th></th>\n",
       "      <th>Course</th>\n",
       "      <th>document_ID</th>\n",
       "      <th>Question</th>\n",
       "    </tr>\n",
       "  </thead>\n",
       "  <tbody>\n",
       "    <tr>\n",
       "      <th>0</th>\n",
       "      <td>data-engineering-zoomcamp</td>\n",
       "      <td>7000acaa</td>\n",
       "      <td>Course - When will the course start?</td>\n",
       "    </tr>\n",
       "    <tr>\n",
       "      <th>1</th>\n",
       "      <td>data-engineering-zoomcamp</td>\n",
       "      <td>7000acaa</td>\n",
       "      <td>What is the exact day and hour of the course?</td>\n",
       "    </tr>\n",
       "    <tr>\n",
       "      <th>2</th>\n",
       "      <td>data-engineering-zoomcamp</td>\n",
       "      <td>7000acaa</td>\n",
       "      <td>How can I subscribe to the course public Googl...</td>\n",
       "    </tr>\n",
       "    <tr>\n",
       "      <th>3</th>\n",
       "      <td>data-engineering-zoomcamp</td>\n",
       "      <td>7000acaa</td>\n",
       "      <td>What do I need to do before the course starts?</td>\n",
       "    </tr>\n",
       "    <tr>\n",
       "      <th>4</th>\n",
       "      <td>data-engineering-zoomcamp</td>\n",
       "      <td>7000acaa</td>\n",
       "      <td>How can I join the course Telegram channel wit...</td>\n",
       "    </tr>\n",
       "  </tbody>\n",
       "</table>\n",
       "</div>"
      ],
      "text/plain": [
       "                      Course document_ID  \\\n",
       "0  data-engineering-zoomcamp    7000acaa   \n",
       "1  data-engineering-zoomcamp    7000acaa   \n",
       "2  data-engineering-zoomcamp    7000acaa   \n",
       "3  data-engineering-zoomcamp    7000acaa   \n",
       "4  data-engineering-zoomcamp    7000acaa   \n",
       "\n",
       "                                            Question  \n",
       "0               Course - When will the course start?  \n",
       "1      What is the exact day and hour of the course?  \n",
       "2  How can I subscribe to the course public Googl...  \n",
       "3     What do I need to do before the course starts?  \n",
       "4  How can I join the course Telegram channel wit...  "
      ]
     },
     "execution_count": 19,
     "metadata": {},
     "output_type": "execute_result"
    }
   ],
   "source": [
    "ground_truth.head()"
   ]
  },
  {
   "cell_type": "code",
   "execution_count": 20,
   "metadata": {
    "execution": {
     "iopub.execute_input": "2024-09-27T09:58:23.412444Z",
     "iopub.status.busy": "2024-09-27T09:58:23.412192Z",
     "iopub.status.idle": "2024-09-27T09:58:23.416578Z",
     "shell.execute_reply": "2024-09-27T09:58:23.415835Z",
     "shell.execute_reply.started": "2024-09-27T09:58:23.412424Z"
    },
    "tags": []
   },
   "outputs": [],
   "source": [
    "# defining a helper function to clean the question column in our ground truth dataset\n",
    "\n",
    "def ques_clean(ques_string):\n",
    "    pattern = r'(^Q:\\s|^[0-9]\\.\\s|^Q[0-9]:\\s|^Q[0-9]\\.\\s)'\n",
    "    \n",
    "    result = re.sub(pattern, \"\", ques_string)\n",
    "    \n",
    "    return result"
   ]
  },
  {
   "cell_type": "code",
   "execution_count": 21,
   "metadata": {
    "execution": {
     "iopub.execute_input": "2024-09-27T09:58:23.418090Z",
     "iopub.status.busy": "2024-09-27T09:58:23.417473Z",
     "iopub.status.idle": "2024-09-27T09:58:23.434125Z",
     "shell.execute_reply": "2024-09-27T09:58:23.433486Z",
     "shell.execute_reply.started": "2024-09-27T09:58:23.418056Z"
    },
    "tags": []
   },
   "outputs": [],
   "source": [
    "ground_truth['Question'] = ground_truth['Question'].apply(lambda x : ques_clean(x))"
   ]
  },
  {
   "cell_type": "code",
   "execution_count": 22,
   "metadata": {
    "execution": {
     "iopub.execute_input": "2024-09-27T09:58:23.438226Z",
     "iopub.status.busy": "2024-09-27T09:58:23.437946Z",
     "iopub.status.idle": "2024-09-27T09:58:23.458954Z",
     "shell.execute_reply": "2024-09-27T09:58:23.458361Z",
     "shell.execute_reply.started": "2024-09-27T09:58:23.438204Z"
    },
    "tags": []
   },
   "outputs": [],
   "source": [
    "# finally to throw the output into a .csv file\n",
    "\n",
    "ground_truth.to_csv(\"ground-truth-data.csv\", index=False)"
   ]
  },
  {
   "cell_type": "code",
   "execution_count": null,
   "metadata": {},
   "outputs": [],
   "source": []
  }
 ],
 "metadata": {
  "kernelspec": {
   "display_name": "saturn (Python 3)",
   "language": "python",
   "name": "python3"
  },
  "language_info": {
   "codemirror_mode": {
    "name": "ipython",
    "version": 3
   },
   "file_extension": ".py",
   "mimetype": "text/x-python",
   "name": "python",
   "nbconvert_exporter": "python",
   "pygments_lexer": "ipython3",
   "version": "3.9.18"
  }
 },
 "nbformat": 4,
 "nbformat_minor": 4
}
