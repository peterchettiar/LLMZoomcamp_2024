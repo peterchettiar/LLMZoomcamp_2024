{
 "cells": [
  {
   "cell_type": "markdown",
   "metadata": {},
   "source": [
    "### Importing the necessary libraries"
   ]
  },
  {
   "cell_type": "code",
   "execution_count": 1,
   "metadata": {
    "execution": {
     "iopub.execute_input": "2024-10-05T02:28:32.412071Z",
     "iopub.status.busy": "2024-10-05T02:28:32.411769Z",
     "iopub.status.idle": "2024-10-05T02:28:33.268193Z",
     "shell.execute_reply": "2024-10-05T02:28:33.267544Z",
     "shell.execute_reply.started": "2024-10-05T02:28:32.412038Z"
    },
    "tags": []
   },
   "outputs": [],
   "source": [
    "import json\n",
    "import warnings\n",
    "import hashlib\n",
    "from openai import OpenAI\n",
    "from tqdm.auto import tqdm\n",
    "import pandas as pd\n",
    "import re\n",
    "\n",
    "warnings.filterwarnings(\"ignore\")"
   ]
  },
  {
   "cell_type": "markdown",
   "metadata": {},
   "source": [
    "### Data Loading and Preprocessing"
   ]
  },
  {
   "cell_type": "code",
   "execution_count": 2,
   "metadata": {
    "execution": {
     "iopub.execute_input": "2024-10-05T02:28:33.270938Z",
     "iopub.status.busy": "2024-10-05T02:28:33.270250Z",
     "iopub.status.idle": "2024-10-05T02:28:33.280252Z",
     "shell.execute_reply": "2024-10-05T02:28:33.279708Z",
     "shell.execute_reply.started": "2024-10-05T02:28:33.270903Z"
    },
    "tags": []
   },
   "outputs": [],
   "source": [
    "# loading raw file\n",
    "with open('documents.json', 'rb') as file:\n",
    "    docs_raw = json.load(file)\n",
    "\n",
    "# flattening raw file into list of dictionaries\n",
    "documents = [{'course': course_dict['course'], 'section': docs['section'], 'question': docs['question'], 'text': docs['text']} \\\n",
    "            for course_dict in docs_raw \\\n",
    "            for docs in course_dict['documents']]"
   ]
  },
  {
   "cell_type": "code",
   "execution_count": 3,
   "metadata": {
    "execution": {
     "iopub.execute_input": "2024-10-05T02:28:33.281371Z",
     "iopub.status.busy": "2024-10-05T02:28:33.281039Z",
     "iopub.status.idle": "2024-10-05T02:28:33.288109Z",
     "shell.execute_reply": "2024-10-05T02:28:33.287342Z",
     "shell.execute_reply.started": "2024-10-05T02:28:33.281349Z"
    },
    "tags": []
   },
   "outputs": [
    {
     "data": {
      "text/plain": [
       "{'course': 'data-engineering-zoomcamp',\n",
       " 'section': 'General course-related questions',\n",
       " 'question': 'Course - When will the course start?',\n",
       " 'text': \"The purpose of this document is to capture frequently asked technical questions\\nThe exact day and hour of the course will be 15th Jan 2024 at 17h00. The course will start with the first  “Office Hours'' live.1\\nSubscribe to course public Google Calendar (it works from Desktop only).\\nRegister before the course starts using this link.\\nJoin the course Telegram channel with announcements.\\nDon’t forget to register in DataTalks.Club's Slack and join the channel.\"}"
      ]
     },
     "execution_count": 3,
     "metadata": {},
     "output_type": "execute_result"
    }
   ],
   "source": [
    "documents[0]"
   ]
  },
  {
   "cell_type": "markdown",
   "metadata": {},
   "source": [
    "### Generating Stable IDs for documents\n",
    "\n",
    "This ID will be used to reference the document in the evaluation process"
   ]
  },
  {
   "cell_type": "code",
   "execution_count": 4,
   "metadata": {
    "execution": {
     "iopub.execute_input": "2024-10-05T02:28:33.289408Z",
     "iopub.status.busy": "2024-10-05T02:28:33.289167Z",
     "iopub.status.idle": "2024-10-05T02:28:33.293623Z",
     "shell.execute_reply": "2024-10-05T02:28:33.293037Z",
     "shell.execute_reply.started": "2024-10-05T02:28:33.289387Z"
    },
    "tags": []
   },
   "outputs": [],
   "source": [
    "# a simple function to generate hash ids based on the concatenation of all our dictionary values\n",
    "def generate_doc_id(doc:dict) -> dict:\n",
    "\n",
    "    # first let's Concatenate the different fields together\n",
    "    combined = \"-\".join(doc.values())\n",
    "\n",
    "    # now to hash our combined unique id\n",
    "    hash_object = hashlib.md5(combined.encode()) # converts string to bytes\n",
    "\n",
    "    # generates the MD5 hash of the encoded string and converts it to a hexidecimal string\n",
    "    hash_hex = hash_object.hexdigest()\n",
    "\n",
    "    return hash_hex[:8]  # only returning the first 8 characters of the hexidecimal string"
   ]
  },
  {
   "cell_type": "code",
   "execution_count": 5,
   "metadata": {
    "execution": {
     "iopub.execute_input": "2024-10-05T02:28:33.294701Z",
     "iopub.status.busy": "2024-10-05T02:28:33.294393Z",
     "iopub.status.idle": "2024-10-05T02:28:33.303188Z",
     "shell.execute_reply": "2024-10-05T02:28:33.302577Z",
     "shell.execute_reply.started": "2024-10-05T02:28:33.294681Z"
    },
    "tags": []
   },
   "outputs": [
    {
     "data": {
      "text/plain": [
       "{'course': 'data-engineering-zoomcamp',\n",
       " 'section': 'General course-related questions',\n",
       " 'question': 'Course - When will the course start?',\n",
       " 'text': \"The purpose of this document is to capture frequently asked technical questions\\nThe exact day and hour of the course will be 15th Jan 2024 at 17h00. The course will start with the first  “Office Hours'' live.1\\nSubscribe to course public Google Calendar (it works from Desktop only).\\nRegister before the course starts using this link.\\nJoin the course Telegram channel with announcements.\\nDon’t forget to register in DataTalks.Club's Slack and join the channel.\",\n",
       " 'id': '7000acaa'}"
      ]
     },
     "execution_count": 5,
     "metadata": {},
     "output_type": "execute_result"
    }
   ],
   "source": [
    "# using our function to generate the IDs key-value pairs\n",
    "documents_updated = [doc.update({'id': generate_doc_id(doc)}) or doc for doc in documents]\n",
    "\n",
    "documents_updated[0]"
   ]
  },
  {
   "cell_type": "code",
   "execution_count": 6,
   "metadata": {
    "execution": {
     "iopub.execute_input": "2024-10-05T02:28:33.304271Z",
     "iopub.status.busy": "2024-10-05T02:28:33.303928Z",
     "iopub.status.idle": "2024-10-05T02:28:33.309557Z",
     "shell.execute_reply": "2024-10-05T02:28:33.308734Z",
     "shell.execute_reply.started": "2024-10-05T02:28:33.304250Z"
    },
    "tags": []
   },
   "outputs": [
    {
     "data": {
      "text/plain": [
       "True"
      ]
     },
     "execution_count": 6,
     "metadata": {},
     "output_type": "execute_result"
    }
   ],
   "source": [
    "# let's quickly check if the ids we generated are unique\n",
    "hashes = [doc['id'] for doc in documents_updated]\n",
    "\n",
    "len(documents_updated) == len(set(hashes))"
   ]
  },
  {
   "cell_type": "code",
   "execution_count": 7,
   "metadata": {
    "execution": {
     "iopub.execute_input": "2024-10-05T02:28:33.313060Z",
     "iopub.status.busy": "2024-10-05T02:28:33.312778Z",
     "iopub.status.idle": "2024-10-05T02:28:33.327498Z",
     "shell.execute_reply": "2024-10-05T02:28:33.326981Z",
     "shell.execute_reply.started": "2024-10-05T02:28:33.313040Z"
    }
   },
   "outputs": [],
   "source": [
    "# we will throw out an output to be used in later lectures\n",
    "with open('documents_with_ids.json', 'w') as json_file:\n",
    "    json.dump(documents_updated, json_file, indent=4)"
   ]
  },
  {
   "cell_type": "markdown",
   "metadata": {},
   "source": [
    "### Using an LLM model to generate questions for each record ID"
   ]
  },
  {
   "cell_type": "code",
   "execution_count": 8,
   "metadata": {
    "execution": {
     "iopub.execute_input": "2024-10-05T02:28:33.328602Z",
     "iopub.status.busy": "2024-10-05T02:28:33.328300Z",
     "iopub.status.idle": "2024-10-05T02:28:33.341426Z",
     "shell.execute_reply": "2024-10-05T02:28:33.340858Z",
     "shell.execute_reply.started": "2024-10-05T02:28:33.328583Z"
    },
    "tags": []
   },
   "outputs": [
    {
     "ename": "OpenAIError",
     "evalue": "The api_key client option must be set either by passing api_key to the client or by setting the OPENAI_API_KEY environment variable",
     "output_type": "error",
     "traceback": [
      "\u001b[0;31m---------------------------------------------------------------------------\u001b[0m",
      "\u001b[0;31mOpenAIError\u001b[0m                               Traceback (most recent call last)",
      "Cell \u001b[0;32mIn[8], line 2\u001b[0m\n\u001b[1;32m      1\u001b[0m \u001b[38;5;66;03m# intialising the openai client so that we can use the chatgpt-4o model to generate our questions for each record ID\u001b[39;00m\n\u001b[0;32m----> 2\u001b[0m openai_client \u001b[38;5;241m=\u001b[39m \u001b[43mOpenAI\u001b[49m\u001b[43m(\u001b[49m\u001b[43m)\u001b[49m\n",
      "File \u001b[0;32m/usr/local/python/3.12.1/lib/python3.12/site-packages/openai/_client.py:105\u001b[0m, in \u001b[0;36mOpenAI.__init__\u001b[0;34m(self, api_key, organization, project, base_url, timeout, max_retries, default_headers, default_query, http_client, _strict_response_validation)\u001b[0m\n\u001b[1;32m    103\u001b[0m     api_key \u001b[38;5;241m=\u001b[39m os\u001b[38;5;241m.\u001b[39menviron\u001b[38;5;241m.\u001b[39mget(\u001b[38;5;124m\"\u001b[39m\u001b[38;5;124mOPENAI_API_KEY\u001b[39m\u001b[38;5;124m\"\u001b[39m)\n\u001b[1;32m    104\u001b[0m \u001b[38;5;28;01mif\u001b[39;00m api_key \u001b[38;5;129;01mis\u001b[39;00m \u001b[38;5;28;01mNone\u001b[39;00m:\n\u001b[0;32m--> 105\u001b[0m     \u001b[38;5;28;01mraise\u001b[39;00m OpenAIError(\n\u001b[1;32m    106\u001b[0m         \u001b[38;5;124m\"\u001b[39m\u001b[38;5;124mThe api_key client option must be set either by passing api_key to the client or by setting the OPENAI_API_KEY environment variable\u001b[39m\u001b[38;5;124m\"\u001b[39m\n\u001b[1;32m    107\u001b[0m     )\n\u001b[1;32m    108\u001b[0m \u001b[38;5;28mself\u001b[39m\u001b[38;5;241m.\u001b[39mapi_key \u001b[38;5;241m=\u001b[39m api_key\n\u001b[1;32m    110\u001b[0m \u001b[38;5;28;01mif\u001b[39;00m organization \u001b[38;5;129;01mis\u001b[39;00m \u001b[38;5;28;01mNone\u001b[39;00m:\n",
      "\u001b[0;31mOpenAIError\u001b[0m: The api_key client option must be set either by passing api_key to the client or by setting the OPENAI_API_KEY environment variable"
     ]
    }
   ],
   "source": [
    "# intialising the openai client so that we can use the chatgpt-4o model to generate our questions for each record ID\n",
    "openai_client = OpenAI()"
   ]
  },
  {
   "cell_type": "code",
   "execution_count": 9,
   "metadata": {
    "execution": {
     "iopub.execute_input": "2024-10-05T02:28:33.342469Z",
     "iopub.status.busy": "2024-10-05T02:28:33.342221Z",
     "iopub.status.idle": "2024-10-05T02:28:33.346374Z",
     "shell.execute_reply": "2024-10-05T02:28:33.345624Z",
     "shell.execute_reply.started": "2024-10-05T02:28:33.342450Z"
    },
    "tags": []
   },
   "outputs": [],
   "source": [
    "# now to create out prompt template - we will use the template provided in the course\n",
    "\n",
    "prompt_template = \"\"\"\n",
    "You emulate a student who's taking our course.\n",
    "Formulate 5 questions this student might ask based on a FAQ record. The record\n",
    "should contain the answer to the questions, and the questions should be complete and not too short.\n",
    "If possible, use as fewer words as possible from the record. \n",
    "\n",
    "The record:\n",
    "\n",
    "section: {section}\n",
    "question: {question}\n",
    "answer: {text}\n",
    "\n",
    "Provide the output in parsable JSON without using code blocks:\n",
    "\n",
    "[\"question1\", \"question2\", ..., \"question5\"]\n",
    "\"\"\".strip()"
   ]
  },
  {
   "cell_type": "code",
   "execution_count": 10,
   "metadata": {
    "execution": {
     "iopub.execute_input": "2024-10-05T02:28:33.347395Z",
     "iopub.status.busy": "2024-10-05T02:28:33.347178Z",
     "iopub.status.idle": "2024-10-05T02:28:33.351771Z",
     "shell.execute_reply": "2024-10-05T02:28:33.351189Z",
     "shell.execute_reply.started": "2024-10-05T02:28:33.347378Z"
    },
    "tags": []
   },
   "outputs": [],
   "source": [
    "# next we want to write a simple function that generates the question for each record:\n",
    "def generate_questions(doc_dict):\n",
    "    # each key in doc_dict corresponds to a placeholder in prompt_template, and the associated value will be inserted into the template\n",
    "    prompt = prompt_template.format(**doc_dict)\n",
    "    \n",
    "    responses = openai_client.chat.completions.create(\n",
    "        model = 'gpt-3.5-turbo',\n",
    "        messages = [{'role':'user', 'content': prompt}]\n",
    "    )\n",
    "    \n",
    "    return responses.choices[0].message.content"
   ]
  },
  {
   "cell_type": "code",
   "execution_count": 11,
   "metadata": {
    "execution": {
     "iopub.execute_input": "2024-10-05T02:28:33.353063Z",
     "iopub.status.busy": "2024-10-05T02:28:33.352496Z",
     "iopub.status.idle": "2024-10-05T02:28:34.435232Z",
     "shell.execute_reply": "2024-10-05T02:28:34.434506Z",
     "shell.execute_reply.started": "2024-10-05T02:28:33.353042Z"
    },
    "tags": []
   },
   "outputs": [
    {
     "name": "stdout",
     "output_type": "stream",
     "text": [
      "{\n",
      "  \"question1\": \"What are the prerequisites for this course?\",\n",
      "  \"question2\": \"Where can I find information about the prerequisites?\",\n",
      "  \"question3\": \"Is there a specific GitHub repository for this course?\",\n",
      "  \"question4\": \"What is the name of the GitHub repository for this course?\",\n",
      "  \"question5\": \"Can you provide the link to the GitHub repository with the prerequisites?\"\n",
      "}\n"
     ]
    }
   ],
   "source": [
    "# testing our function\n",
    "print(generate_questions(documents_updated[1]))"
   ]
  },
  {
   "cell_type": "code",
   "execution_count": 12,
   "metadata": {
    "execution": {
     "iopub.execute_input": "2024-10-05T02:28:34.436532Z",
     "iopub.status.busy": "2024-10-05T02:28:34.436208Z",
     "iopub.status.idle": "2024-10-05T02:48:34.221443Z",
     "shell.execute_reply": "2024-10-05T02:48:34.220635Z",
     "shell.execute_reply.started": "2024-10-05T02:28:34.436508Z"
    },
    "tags": []
   },
   "outputs": [
    {
     "data": {
      "application/vnd.jupyter.widget-view+json": {
       "model_id": "18d9d7424d1f489da403be89d897432c",
       "version_major": 2,
       "version_minor": 0
      },
      "text/plain": [
       "  0%|          | 0/948 [00:00<?, ?it/s]"
      ]
     },
     "metadata": {},
     "output_type": "display_data"
    }
   ],
   "source": [
    "# now to generate the questions for each record id\n",
    "results = [{'Course': doc['course'], 'document_ID': doc['id'], 'Questions': generate_questions(doc)} for doc in tqdm(documents_updated)]"
   ]
  },
  {
   "cell_type": "code",
   "execution_count": 13,
   "metadata": {
    "execution": {
     "iopub.execute_input": "2024-10-05T02:48:34.222786Z",
     "iopub.status.busy": "2024-10-05T02:48:34.222413Z",
     "iopub.status.idle": "2024-10-05T02:48:34.227070Z",
     "shell.execute_reply": "2024-10-05T02:48:34.226501Z",
     "shell.execute_reply.started": "2024-10-05T02:48:34.222762Z"
    },
    "tags": []
   },
   "outputs": [
    {
     "data": {
      "text/plain": [
       "{'Course': 'data-engineering-zoomcamp',\n",
       " 'document_ID': '7000acaa',\n",
       " 'Questions': '[\\n    \"When will the course start?\",\\n    \"How can I subscribe to the course public Google Calendar?\",\\n    \"What should I do before the course starts?\",\\n    \"How can I join the course Telegram channel?\",\\n    \"Where should I register and join the Slack channel?\"\\n]'}"
      ]
     },
     "execution_count": 13,
     "metadata": {},
     "output_type": "execute_result"
    }
   ],
   "source": [
    "# let's have a quick look at the results\n",
    "results[0]"
   ]
  },
  {
   "cell_type": "code",
   "execution_count": 14,
   "metadata": {
    "execution": {
     "iopub.execute_input": "2024-10-05T02:48:34.228179Z",
     "iopub.status.busy": "2024-10-05T02:48:34.227888Z",
     "iopub.status.idle": "2024-10-05T02:48:34.233201Z",
     "shell.execute_reply": "2024-10-05T02:48:34.232555Z",
     "shell.execute_reply.started": "2024-10-05T02:48:34.228158Z"
    },
    "tags": []
   },
   "outputs": [],
   "source": [
    "# lets write a function that is able to parse our questions in results from a JSON object into a python object\n",
    "\n",
    "def parse_results(res_dict: dict) -> dict:\n",
    "    clean_dict = {}\n",
    "    \n",
    "    clean_dict['Course'] = res_dict['Course']\n",
    "    clean_dict['document_ID'] = res_dict['document_ID']\n",
    "    \n",
    "    try:\n",
    "        tmp_ques = json.loads(res_dict['Questions'])\n",
    "        if type(tmp_ques) == list:\n",
    "            clean_dict['Question'] = tmp_ques\n",
    "        else:\n",
    "            clean_dict['Question'] = list(tmp_ques.values())\n",
    "    except:\n",
    "        # the error is specific - so a hot fix for this item\n",
    "        clean_dict['Question'] = [\n",
    "            \"Why am I getting the error column c.relhasoids does not exist when using the command \\\\d <database name>?\",\n",
    "            \"What should I do to resolve the error with pgcli?\",\n",
    "            \"Should I uninstall pgcli to fix the issue?\",\n",
    "            \"What steps should I take after reinstalling pgcli?\",\n",
    "            \"Is restarting the PC necessary to resolve the error?\"\n",
    "        ]\n",
    "    \n",
    "    return clean_dict"
   ]
  },
  {
   "cell_type": "code",
   "execution_count": 15,
   "metadata": {
    "execution": {
     "iopub.execute_input": "2024-10-05T02:48:34.234192Z",
     "iopub.status.busy": "2024-10-05T02:48:34.233919Z",
     "iopub.status.idle": "2024-10-05T02:48:34.245586Z",
     "shell.execute_reply": "2024-10-05T02:48:34.245001Z",
     "shell.execute_reply.started": "2024-10-05T02:48:34.234168Z"
    },
    "tags": []
   },
   "outputs": [
    {
     "data": {
      "text/plain": [
       "{'Course': 'data-engineering-zoomcamp',\n",
       " 'document_ID': '43f16b6e',\n",
       " 'Question': ['Why am I getting the error column c.relhasoids does not exist when using the command \\\\d <database name>?',\n",
       "  'What should I do to resolve the error with pgcli?',\n",
       "  'Should I uninstall pgcli to fix the issue?',\n",
       "  'What steps should I take after reinstalling pgcli?',\n",
       "  'Is restarting the PC necessary to resolve the error?']}"
      ]
     },
     "execution_count": 15,
     "metadata": {},
     "output_type": "execute_result"
    }
   ],
   "source": [
    "parsed_results = [parse_results(res) for res in results]\n",
    "\n",
    "parsed_results[108]"
   ]
  },
  {
   "cell_type": "markdown",
   "metadata": {},
   "source": [
    "### Final Step - move parsed results dictionary into a dataframe and throw .csv output"
   ]
  },
  {
   "cell_type": "code",
   "execution_count": 16,
   "metadata": {
    "execution": {
     "iopub.execute_input": "2024-10-05T02:48:34.246654Z",
     "iopub.status.busy": "2024-10-05T02:48:34.246335Z",
     "iopub.status.idle": "2024-10-05T02:48:34.262961Z",
     "shell.execute_reply": "2024-10-05T02:48:34.262362Z",
     "shell.execute_reply.started": "2024-10-05T02:48:34.246634Z"
    },
    "tags": []
   },
   "outputs": [
    {
     "data": {
      "text/html": [
       "<div>\n",
       "<style scoped>\n",
       "    .dataframe tbody tr th:only-of-type {\n",
       "        vertical-align: middle;\n",
       "    }\n",
       "\n",
       "    .dataframe tbody tr th {\n",
       "        vertical-align: top;\n",
       "    }\n",
       "\n",
       "    .dataframe thead th {\n",
       "        text-align: right;\n",
       "    }\n",
       "</style>\n",
       "<table border=\"1\" class=\"dataframe\">\n",
       "  <thead>\n",
       "    <tr style=\"text-align: right;\">\n",
       "      <th></th>\n",
       "      <th>Course</th>\n",
       "      <th>document_ID</th>\n",
       "      <th>Question</th>\n",
       "    </tr>\n",
       "  </thead>\n",
       "  <tbody>\n",
       "    <tr>\n",
       "      <th>0</th>\n",
       "      <td>data-engineering-zoomcamp</td>\n",
       "      <td>7000acaa</td>\n",
       "      <td>[When will the course start?, How can I subscr...</td>\n",
       "    </tr>\n",
       "    <tr>\n",
       "      <th>1</th>\n",
       "      <td>data-engineering-zoomcamp</td>\n",
       "      <td>589ff45b</td>\n",
       "      <td>[What are the prerequisites for this course?, ...</td>\n",
       "    </tr>\n",
       "    <tr>\n",
       "      <th>2</th>\n",
       "      <td>data-engineering-zoomcamp</td>\n",
       "      <td>dc2b8c0f</td>\n",
       "      <td>[Can I still enroll in the course after the st...</td>\n",
       "    </tr>\n",
       "    <tr>\n",
       "      <th>3</th>\n",
       "      <td>data-engineering-zoomcamp</td>\n",
       "      <td>081e4c4b</td>\n",
       "      <td>[I have registered for the Data Engineering Bo...</td>\n",
       "    </tr>\n",
       "    <tr>\n",
       "      <th>4</th>\n",
       "      <td>data-engineering-zoomcamp</td>\n",
       "      <td>806339a9</td>\n",
       "      <td>[What are some things I can do before the cour...</td>\n",
       "    </tr>\n",
       "  </tbody>\n",
       "</table>\n",
       "</div>"
      ],
      "text/plain": [
       "                      Course document_ID  \\\n",
       "0  data-engineering-zoomcamp    7000acaa   \n",
       "1  data-engineering-zoomcamp    589ff45b   \n",
       "2  data-engineering-zoomcamp    dc2b8c0f   \n",
       "3  data-engineering-zoomcamp    081e4c4b   \n",
       "4  data-engineering-zoomcamp    806339a9   \n",
       "\n",
       "                                            Question  \n",
       "0  [When will the course start?, How can I subscr...  \n",
       "1  [What are the prerequisites for this course?, ...  \n",
       "2  [Can I still enroll in the course after the st...  \n",
       "3  [I have registered for the Data Engineering Bo...  \n",
       "4  [What are some things I can do before the cour...  "
      ]
     },
     "execution_count": 16,
     "metadata": {},
     "output_type": "execute_result"
    }
   ],
   "source": [
    "# now to convert our results dictionary to a pandas dataframe\n",
    "\n",
    "ground_truth = pd.DataFrame(data=parsed_results)\n",
    "ground_truth.head()"
   ]
  },
  {
   "cell_type": "code",
   "execution_count": 17,
   "metadata": {
    "execution": {
     "iopub.execute_input": "2024-10-05T02:48:34.264380Z",
     "iopub.status.busy": "2024-10-05T02:48:34.263899Z",
     "iopub.status.idle": "2024-10-05T02:48:34.268902Z",
     "shell.execute_reply": "2024-10-05T02:48:34.268274Z",
     "shell.execute_reply.started": "2024-10-05T02:48:34.264348Z"
    },
    "tags": []
   },
   "outputs": [],
   "source": [
    "# realised there were some issues with the question column - there are some outputs with nested listing\n",
    "# hence we need to flatten list further using the followinf function before exploding\n",
    "\n",
    "def flatten_list(obj):\n",
    "    if isinstance(obj[0], list):\n",
    "        return obj[0]\n",
    "    elif isinstance(obj[0], dict):\n",
    "        result = [i[0] for i in [list(item.values()) for item in obj]]\n",
    "        return result\n",
    "    else:\n",
    "        return obj"
   ]
  },
  {
   "cell_type": "code",
   "execution_count": 18,
   "metadata": {
    "execution": {
     "iopub.execute_input": "2024-10-05T02:48:34.269951Z",
     "iopub.status.busy": "2024-10-05T02:48:34.269710Z",
     "iopub.status.idle": "2024-10-05T02:48:34.275699Z",
     "shell.execute_reply": "2024-10-05T02:48:34.275110Z",
     "shell.execute_reply.started": "2024-10-05T02:48:34.269932Z"
    },
    "tags": []
   },
   "outputs": [],
   "source": [
    "ground_truth['Question'] = ground_truth['Question'].apply(lambda x : flatten_list(x))"
   ]
  },
  {
   "cell_type": "code",
   "execution_count": 19,
   "metadata": {
    "execution": {
     "iopub.execute_input": "2024-10-05T02:48:34.276791Z",
     "iopub.status.busy": "2024-10-05T02:48:34.276458Z",
     "iopub.status.idle": "2024-10-05T02:48:34.287447Z",
     "shell.execute_reply": "2024-10-05T02:48:34.286929Z",
     "shell.execute_reply.started": "2024-10-05T02:48:34.276769Z"
    },
    "tags": []
   },
   "outputs": [],
   "source": [
    "# lets now explode the question column\n",
    "ground_truth = ground_truth.explode('Question', ignore_index=True)"
   ]
  },
  {
   "cell_type": "code",
   "execution_count": 20,
   "metadata": {
    "execution": {
     "iopub.execute_input": "2024-10-05T02:48:34.288616Z",
     "iopub.status.busy": "2024-10-05T02:48:34.288250Z",
     "iopub.status.idle": "2024-10-05T02:48:34.295275Z",
     "shell.execute_reply": "2024-10-05T02:48:34.294648Z",
     "shell.execute_reply.started": "2024-10-05T02:48:34.288595Z"
    },
    "tags": []
   },
   "outputs": [
    {
     "data": {
      "text/html": [
       "<div>\n",
       "<style scoped>\n",
       "    .dataframe tbody tr th:only-of-type {\n",
       "        vertical-align: middle;\n",
       "    }\n",
       "\n",
       "    .dataframe tbody tr th {\n",
       "        vertical-align: top;\n",
       "    }\n",
       "\n",
       "    .dataframe thead th {\n",
       "        text-align: right;\n",
       "    }\n",
       "</style>\n",
       "<table border=\"1\" class=\"dataframe\">\n",
       "  <thead>\n",
       "    <tr style=\"text-align: right;\">\n",
       "      <th></th>\n",
       "      <th>Course</th>\n",
       "      <th>document_ID</th>\n",
       "      <th>Question</th>\n",
       "    </tr>\n",
       "  </thead>\n",
       "  <tbody>\n",
       "    <tr>\n",
       "      <th>0</th>\n",
       "      <td>data-engineering-zoomcamp</td>\n",
       "      <td>7000acaa</td>\n",
       "      <td>When will the course start?</td>\n",
       "    </tr>\n",
       "    <tr>\n",
       "      <th>1</th>\n",
       "      <td>data-engineering-zoomcamp</td>\n",
       "      <td>7000acaa</td>\n",
       "      <td>How can I subscribe to the course public Googl...</td>\n",
       "    </tr>\n",
       "    <tr>\n",
       "      <th>2</th>\n",
       "      <td>data-engineering-zoomcamp</td>\n",
       "      <td>7000acaa</td>\n",
       "      <td>What should I do before the course starts?</td>\n",
       "    </tr>\n",
       "    <tr>\n",
       "      <th>3</th>\n",
       "      <td>data-engineering-zoomcamp</td>\n",
       "      <td>7000acaa</td>\n",
       "      <td>How can I join the course Telegram channel?</td>\n",
       "    </tr>\n",
       "    <tr>\n",
       "      <th>4</th>\n",
       "      <td>data-engineering-zoomcamp</td>\n",
       "      <td>7000acaa</td>\n",
       "      <td>Where should I register and join the Slack cha...</td>\n",
       "    </tr>\n",
       "  </tbody>\n",
       "</table>\n",
       "</div>"
      ],
      "text/plain": [
       "                      Course document_ID  \\\n",
       "0  data-engineering-zoomcamp    7000acaa   \n",
       "1  data-engineering-zoomcamp    7000acaa   \n",
       "2  data-engineering-zoomcamp    7000acaa   \n",
       "3  data-engineering-zoomcamp    7000acaa   \n",
       "4  data-engineering-zoomcamp    7000acaa   \n",
       "\n",
       "                                            Question  \n",
       "0                        When will the course start?  \n",
       "1  How can I subscribe to the course public Googl...  \n",
       "2         What should I do before the course starts?  \n",
       "3        How can I join the course Telegram channel?  \n",
       "4  Where should I register and join the Slack cha...  "
      ]
     },
     "execution_count": 20,
     "metadata": {},
     "output_type": "execute_result"
    }
   ],
   "source": [
    "ground_truth.head()"
   ]
  },
  {
   "cell_type": "code",
   "execution_count": 21,
   "metadata": {
    "execution": {
     "iopub.execute_input": "2024-10-05T02:48:34.296341Z",
     "iopub.status.busy": "2024-10-05T02:48:34.296066Z",
     "iopub.status.idle": "2024-10-05T02:48:34.300057Z",
     "shell.execute_reply": "2024-10-05T02:48:34.299429Z",
     "shell.execute_reply.started": "2024-10-05T02:48:34.296322Z"
    },
    "tags": []
   },
   "outputs": [],
   "source": [
    "# defining a helper function to clean the question column in our ground truth dataset\n",
    "\n",
    "def ques_clean(ques_string):\n",
    "    pattern = r'(^Q:\\s|^[0-9]\\.\\s|^Q[0-9]:\\s|^Q[0-9]\\.\\s)'\n",
    "    \n",
    "    result = re.sub(pattern, \"\", ques_string)\n",
    "    \n",
    "    return result"
   ]
  },
  {
   "cell_type": "code",
   "execution_count": 22,
   "metadata": {
    "execution": {
     "iopub.execute_input": "2024-10-05T02:48:34.302788Z",
     "iopub.status.busy": "2024-10-05T02:48:34.302508Z",
     "iopub.status.idle": "2024-10-05T02:48:34.315926Z",
     "shell.execute_reply": "2024-10-05T02:48:34.315337Z",
     "shell.execute_reply.started": "2024-10-05T02:48:34.302768Z"
    },
    "tags": []
   },
   "outputs": [],
   "source": [
    "ground_truth['Question'] = ground_truth['Question'].apply(lambda x : ques_clean(x))"
   ]
  },
  {
   "cell_type": "code",
   "execution_count": 23,
   "metadata": {
    "execution": {
     "iopub.execute_input": "2024-10-05T02:48:34.317059Z",
     "iopub.status.busy": "2024-10-05T02:48:34.316750Z",
     "iopub.status.idle": "2024-10-05T02:48:34.339826Z",
     "shell.execute_reply": "2024-10-05T02:48:34.339293Z",
     "shell.execute_reply.started": "2024-10-05T02:48:34.317040Z"
    },
    "tags": []
   },
   "outputs": [],
   "source": [
    "# finally to throw the output into a .csv file\n",
    "\n",
    "ground_truth.to_csv(\"ground-truth-data.csv\", index=False)"
   ]
  },
  {
   "cell_type": "code",
   "execution_count": null,
   "metadata": {},
   "outputs": [],
   "source": []
  }
 ],
 "metadata": {
  "kernelspec": {
   "display_name": "saturn (Python 3)",
   "language": "python",
   "name": "python3"
  },
  "language_info": {
   "codemirror_mode": {
    "name": "ipython",
    "version": 3
   },
   "file_extension": ".py",
   "mimetype": "text/x-python",
   "name": "python",
   "nbconvert_exporter": "python",
   "pygments_lexer": "ipython3",
   "version": "3.12.1"
  }
 },
 "nbformat": 4,
 "nbformat_minor": 4
}
